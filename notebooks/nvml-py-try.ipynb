{
 "cells": [
  {
   "cell_type": "code",
   "execution_count": 1,
   "metadata": {},
   "outputs": [],
   "source": [
    "from pynvml import *"
   ]
  },
  {
   "cell_type": "code",
   "execution_count": 2,
   "metadata": {
    "collapsed": true
   },
   "outputs": [],
   "source": [
    "def bytes_to_mb(x):\n",
    "    return(x / (1024 * 1024))"
   ]
  },
  {
   "cell_type": "code",
   "execution_count": 3,
   "metadata": {},
   "outputs": [],
   "source": [
    "nvmlInit()"
   ]
  },
  {
   "cell_type": "code",
   "execution_count": 4,
   "metadata": {},
   "outputs": [
    {
     "data": {
      "text/plain": [
       "2"
      ]
     },
     "execution_count": 4,
     "metadata": {},
     "output_type": "execute_result"
    }
   ],
   "source": [
    "deviceCount = nvmlDeviceGetCount()\n",
    "deviceCount"
   ]
  },
  {
   "cell_type": "code",
   "execution_count": 5,
   "metadata": {},
   "outputs": [
    {
     "name": "stdout",
     "output_type": "stream",
     "text": [
      "Device 0: b'GeForce GTX 1080 Ti'\n",
      "Device 1: b'GeForce GTX 1080 Ti'\n"
     ]
    }
   ],
   "source": [
    "for i in range(deviceCount):\n",
    "    handle = nvmlDeviceGetHandleByIndex(i)\n",
    "    print(\"Device {}: {}\".format(i, nvmlDeviceGetName(handle)))"
   ]
  },
  {
   "cell_type": "code",
   "execution_count": 6,
   "metadata": {
    "collapsed": true
   },
   "outputs": [],
   "source": [
    "GPU_DEVICE = 1"
   ]
  },
  {
   "cell_type": "code",
   "execution_count": 7,
   "metadata": {},
   "outputs": [],
   "source": [
    "handle = nvmlDeviceGetHandleByIndex(GPU_DEVICE)"
   ]
  },
  {
   "cell_type": "code",
   "execution_count": 8,
   "metadata": {},
   "outputs": [],
   "source": [
    "info = nvmlDeviceGetMemoryInfo(handle)"
   ]
  },
  {
   "cell_type": "code",
   "execution_count": 9,
   "metadata": {},
   "outputs": [
    {
     "name": "stdout",
     "output_type": "stream",
     "text": [
      "Memory Usage: 1100.5625 Mb/11175.375 Mb \n"
     ]
    }
   ],
   "source": [
    "print(\"Memory Usage: {} Mb/{} Mb \".format(bytes_to_mb(info.used), bytes_to_mb(info.total)))"
   ]
  },
  {
   "cell_type": "code",
   "execution_count": null,
   "metadata": {
    "collapsed": true
   },
   "outputs": [],
   "source": [
    "import time"
   ]
  },
  {
   "cell_type": "code",
   "execution_count": null,
   "metadata": {
    "scrolled": false
   },
   "outputs": [
    {
     "name": "stdout",
     "output_type": "stream",
     "text": [
      "util.gpu = 39, util.memory = 17\n",
      "util.gpu = 56, util.memory = 5\n",
      "util.gpu = 0, util.memory = 0\n",
      "util.gpu = 0, util.memory = 0\n",
      "util.gpu = 1, util.memory = 0\n",
      "util.gpu = 1, util.memory = 0\n",
      "util.gpu = 0, util.memory = 0\n",
      "util.gpu = 0, util.memory = 0\n",
      "util.gpu = 0, util.memory = 0\n",
      "util.gpu = 1, util.memory = 0\n",
      "util.gpu = 1, util.memory = 0\n",
      "util.gpu = 0, util.memory = 0\n",
      "util.gpu = 0, util.memory = 0\n",
      "util.gpu = 0, util.memory = 0\n"
     ]
    }
   ],
   "source": [
    "for i in range(100):\n",
    "    util = nvmlDeviceGetUtilizationRates(handle)\n",
    "    print(\"util.gpu = {}, util.memory = {}\".format(util.gpu, util.memory))\n",
    "    time.sleep(0.5)"
   ]
  }
 ],
 "metadata": {
  "kernelspec": {
   "display_name": "Python 3",
   "language": "python",
   "name": "python3"
  },
  "language_info": {
   "codemirror_mode": {
    "name": "ipython",
    "version": 3
   },
   "file_extension": ".py",
   "mimetype": "text/x-python",
   "name": "python",
   "nbconvert_exporter": "python",
   "pygments_lexer": "ipython3",
   "version": "3.6.1"
  }
 },
 "nbformat": 4,
 "nbformat_minor": 2
}
